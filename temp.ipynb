{
 "cells": [
  {
   "cell_type": "code",
   "execution_count": 16,
   "metadata": {},
   "outputs": [],
   "source": [
    "import requests\n",
    "from scrapy.selector import Selector\n",
    "import datetime"
   ]
  },
  {
   "cell_type": "code",
   "execution_count": 13,
   "metadata": {},
   "outputs": [
    {
     "data": {
      "text/plain": [
       "0"
      ]
     },
     "execution_count": 13,
     "metadata": {},
     "output_type": "execute_result"
    }
   ],
   "source": [
    "text='双石镇开展猪肉检疫情况检查'\n",
    "text.find('双石')\n"
   ]
  },
  {
   "cell_type": "code",
   "execution_count": 15,
   "metadata": {},
   "outputs": [
    {
     "data": {
      "text/plain": [
       "1"
      ]
     },
     "execution_count": 15,
     "metadata": {},
     "output_type": "execute_result"
    }
   ],
   "source": [
    "def sht(a):\n",
    "    for i in range(a):\n",
    "        return i+1\n",
    "sht(2)"
   ]
  },
  {
   "cell_type": "code",
   "execution_count": 7,
   "metadata": {},
   "outputs": [
    {
     "data": {
      "text/plain": [
       "0"
      ]
     },
     "execution_count": 7,
     "metadata": {},
     "output_type": "execute_result"
    }
   ],
   "source": [
    ""
   ]
  },
  {
   "cell_type": "code",
   "execution_count": 17,
   "metadata": {},
   "outputs": [],
   "source": [
    "url='http://yc.cq.gov.cn/zfgk/zfxxgkpt/zfxxgkml/list.html?'\n",
    "headers={'User-Agent': 'Mozilla/5.0 (Windows NT 10.0; Win64; x64) AppleWebKit/537.36 (KHTML, like Gecko) Chrome/68.0.3440.106 Safari/537.36'}"
   ]
  },
  {
   "cell_type": "code",
   "execution_count": 19,
   "metadata": {},
   "outputs": [],
   "source": [
    "response=requests.get(url,headers=headers)\n",
    "response.encoding=response.apparent_encoding"
   ]
  },
  {
   "cell_type": "code",
   "execution_count": 31,
   "metadata": {},
   "outputs": [
    {
     "name": "stdout",
     "output_type": "stream",
     "text": [
      "<class 'str'>\n"
     ]
    }
   ],
   "source": [
    "today = datetime.date.today().strftime('%Y-%m-%d')\n",
    "yesterday=datetime.date.today()+datetime.timedelta(-1)\n",
    "print(type(str(yesterday)))"
   ]
  },
  {
   "cell_type": "code",
   "execution_count": 24,
   "metadata": {},
   "outputs": [
    {
     "name": "stdout",
     "output_type": "stream",
     "text": [
      "doog\n"
     ]
    }
   ],
   "source": [
    "i=1\n",
    "if i==1 or i==0:\n",
    "    print('doog')\n",
    "else:\n",
    "    print('999')"
   ]
  },
  {
   "cell_type": "code",
   "execution_count": 4,
   "metadata": {},
   "outputs": [],
   "source": [
    "sel=Selector(response=response)"
   ]
  },
  {
   "cell_type": "code",
   "execution_count": 18,
   "metadata": {},
   "outputs": [
    {
     "name": "stdout",
     "output_type": "stream",
     "text": [
      "重庆理文卫生用纸制造有限公司利用竹木浆年产44万吨高档生活用纸项目噪声、固体废物污染防治设施竣工环境保护验收申请公示 http://yc.cq.gov.cn/zfgk/zfxxgkpt/zfxxgkml/201808/t20180820_447644.html 2018-08-20\n不动产权证书/登记证明遗失（灭失）声明（编号：港桥松溉2018字10号） http://yc.cq.gov.cn/zfgk/zfxxgkpt/zfxxgkml/201808/t20180820_447632.html 2018-08-20\n不动产权证书/登记证明遗失（灭失）声明（编号：港桥松溉2018字10号） http://yc.cq.gov.cn/zfgk/zfxxgkpt/zfxxgkml/201808/t20180820_447632.html 2018-08-20\n重庆理文造纸有限公司年产1.2万吨纸筒芯项目噪声、固体废物污染防治设施竣工环境保护验收申请公示 http://yc.cq.gov.cn/zfgk/zfxxgkpt/zfxxgkml/201808/t20180820_447640.html 2018-08-20\n"
     ]
    }
   ],
   "source": [
    "today=datetime.date.today().strftime('%Y-%m-%d')\n",
    "infos=sel.css('div.boxcon div.xxgk_wrap')\n",
    "for i in infos:\n",
    "    riqi=i.css('li.w100 span::text').extract()[0]\n",
    "    # biaoti=i.css('li.w353 a::text').extract()[0]\n",
    "    biaoti=i.css('div.hover_box>p:nth-child(2) span::text').extract()[0]\n",
    "    if riqi==today:\n",
    "        for j in ['朱沱','松溉','何埂','港桥','理文']:\n",
    "            if (biaoti.find(j))>=0:\n",
    "                link='http://yc.cq.gov.cn/zfgk/zfxxgkpt/zfxxgkml/'+i.css('li.w353 a::attr(href)').extract_first()[2:]\n",
    "                print(biaoti,link,riqi)"
   ]
  },
  {
   "cell_type": "code",
   "execution_count": 25,
   "metadata": {},
   "outputs": [
    {
     "data": {
      "text/plain": [
       "['重庆市永川区审计局关于2017年度区级预算执行及其他财政收支审计情况的公告']"
      ]
     },
     "execution_count": 25,
     "metadata": {},
     "output_type": "execute_result"
    }
   ],
   "source": [
    "infos[-1].css('li.w100 span::text').extract()[0]"
   ]
  },
  {
   "cell_type": "code",
   "execution_count": null,
   "metadata": {},
   "outputs": [],
   "source": []
  }
 ],
 "metadata": {},
 "nbformat": 4,
 "nbformat_minor": 0
}

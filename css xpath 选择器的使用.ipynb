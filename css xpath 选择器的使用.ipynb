{
 "cells": [
  {
   "cell_type": "code",
   "execution_count": 1,
   "metadata": {
    "collapsed": true
   },
   "outputs": [],
   "source": [
    "import requests\n",
    "from scrapy import Selector\n",
    "from lxml import etree"
   ]
  },
  {
   "cell_type": "code",
   "execution_count": 2,
   "metadata": {},
   "outputs": [],
   "source": [
    "url='http://weixin.sogou.com/weixin?type=2&ie=utf8&query=%E6%9C%B1%E6%B2%B1&tsn=2&ft=&et=&interation=&wxid=&usip='\n",
    "headers={'User-Agent': 'Mozilla/5.0 (Windows NT 10.0; Win64; x64) AppleWebKit/537.36 (KHTML, like Gecko) Chrome/68.0.3440.106 Safari/537.36','Host': 'weixin.sogou.com','Referer': 'http://weixin.sogou.com/weixin?type=2&s_from=input&query=%E6%9C%B1%E6%B2%B1&ie=utf8&_sug_=y&_sug_type_=&w=01019900&sut=1363&sst0=1534656329319&lkt=1%2C1534656329216%2C1534656329216'}"
   ]
  },
  {
   "cell_type": "code",
   "execution_count": 3,
   "metadata": {},
   "outputs": [],
   "source": [
    "response=requests.get(url,headers=headers)"
   ]
  },
  {
   "cell_type": "code",
   "execution_count": 171,
   "metadata": {},
   "outputs": [
    {
     "data": {
      "text/plain": [
       "'、松溉、胜利 ..永川月收入8000以下的看看吧!'"
      ]
     },
     "execution_count": 171,
     "metadata": {},
     "output_type": "execute_result"
    }
   ],
   "source": [
    "#用lxml的etree方法：\n",
    "html=etree.HTML(response.text)\n",
    "# html.xpath('(//ul[@class=\"news-list\"]//li//a/text())')  #不加string可得全部结果，但关键字被略掉\n",
    "html.xpath('string(//ul[@class=\"news-list\"]//li//a/text())')#只能得到第一条结果，且关键字被略掉\n"
   ]
  },
  {
   "cell_type": "code",
   "execution_count": 172,
   "metadata": {},
   "outputs": [],
   "source": [
    ""
   ]
  },
  {
   "cell_type": "code",
   "execution_count": null,
   "metadata": {},
   "outputs": [],
   "source": []
  },
  {
   "cell_type": "code",
   "execution_count": 190,
   "metadata": {},
   "outputs": [
    {
     "data": {
      "text/plain": [
       "['朱沱、松溉、胜利 ..永川月收入8000以下的看看吧!',\n \"关注'朱沱.臣家小厨'公众号惊喜不断!\",\n '买过停车位的人要哭了!这个规定出炉!不知道的亏大了',\n '永川警方正在追捕这16人!附详细人员名单!举报有奖!',\n '因为我妈发的一个链接 我千里迢迢来到了京东拼购造纸厂',\n '永川这些地方要停电!',\n '热天,永川这些门面免费喝清凉饮料!',\n '吐血整理!重庆交通出行指南!有了它再也不怕在重庆迷路了',\n '围观 | 一周新闻速递',\n '扫黑除恶 | 请勇于举报!']"
      ]
     },
     "execution_count": 190,
     "metadata": {},
     "output_type": "execute_result"
    }
   ],
   "source": [
    "sel=Selector(text=response.text)\n",
    "# biaotilist=sel.xpath('string(//ul[@class=\"news-list\"]//a)') #加了string，结果为空\n",
    "# biaotilist=sel.xpath('//ul[@class=\"news-list\"]//a/text()').extract()    #不用string，得到所有结果，但关键字被略过\n",
    "# biaotilist=sel.xpath('//ul[@class=\"news-list\"]//li//h3/a/text()').extract()#得到所有结果，但无法避免关键词被忽略的问题\n",
    "# biaotilist=sel.xpath('string(//ul[@class=\"news-list\"]//li/div[2]/h3/a)')#为什么只能得到第一条数据呢？\n",
    "biaotilist=sel.css('ul.news-list li').xpath('string(.//h3/a)').extract()  #必须在多个li这里断开重开（用css或者xpath均可），才能得到所有结果，否则只能得到第一个结果\n",
    "# biaotilist=sel.xpath('//ul[@class=\"news-list\"]//li').xpath('string(./div[2]/h3/a)').extract()\n",
    "biaotilist"
   ]
  },
  {
   "cell_type": "code",
   "execution_count": 191,
   "metadata": {},
   "outputs": [
    {
     "data": {
      "text/plain": [
       "[<Selector xpath='string(//ul[@class=\"news-list\"]//li//h3//a)' data='朱沱、松溉、胜利 ..永川月收入8000以下的看看吧!'>]"
      ]
     },
     "execution_count": 191,
     "metadata": {},
     "output_type": "execute_result"
    }
   ],
   "source": [
    "biaotilist=sel.xpath('string(//ul[@class=\"news-list\"]//li//h3//a)') #加上string只能得到第一个结果\n",
    "biaotilist"
   ]
  },
  {
   "cell_type": "code",
   "execution_count": 34,
   "metadata": {},
   "outputs": [
    {
     "data": {
      "text/plain": [
       "[]"
      ]
     },
     "execution_count": 34,
     "metadata": {},
     "output_type": "execute_result"
    }
   ],
   "source": [
    "sel=Selector(text=response.text)\n",
    "sel.css('ul.news-list>li').xpath('.//span[@class=\"s2\"]/text')   #由于是JavaScript写的，故获取不到！！！！"
   ]
  },
  {
   "cell_type": "code",
   "execution_count": 2,
   "metadata": {},
   "outputs": [
    {
     "name": "stdout",
     "output_type": "stream",
     "text": [
      "['http://weixin.sogou.com/weixin?usip=&query=朱沱&ft=&tsn=1&et=&interation=&type=2&wxid=&page=1&ie=utf8', 'http://weixin.sogou.com/weixin?usip=&query=松溉&ft=&tsn=1&et=&interation=&type=2&wxid=&page=1&ie=utf8', 'http://weixin.sogou.com/weixin?usip=&query=何埂&ft=&tsn=1&et=&interation=&type=2&wxid=&page=1&ie=utf8', 'http://weixin.sogou.com/weixin?usip=&query=永川港桥&ft=&tsn=1&et=&interation=&type=2&wxid=&page=1&ie=utf8', 'http://weixin.sogou.com/weixin?usip=&query=云龙机场&ft=&tsn=1&et=&interation=&type=2&wxid=&page=1&ie=utf8']\n"
     ]
    }
   ],
   "source": [
    "start_urls = [f'http://weixin.sogou.com/weixin?usip=&query={x}&ft=&tsn=1&et=&interation=&type=2&wxid=&page=1&ie=utf8' for x in ['朱沱','松溉','何埂','永川港桥','云龙机场']]\n",
    "print(start_urls)"
   ]
  },
  {
   "cell_type": "code",
   "execution_count": null,
   "metadata": {},
   "outputs": [],
   "source": []
  }
 ],
 "metadata": {
  "kernelspec": {
   "display_name": "Python 2",
   "language": "python",
   "name": "python2"
  },
  "language_info": {
   "codemirror_mode": {
    "name": "ipython",
    "version": 2
   },
   "file_extension": ".py",
   "mimetype": "text/x-python",
   "name": "python",
   "nbconvert_exporter": "python",
   "pygments_lexer": "ipython2",
   "version": "2.7.6"
  }
 },
 "nbformat": 4,
 "nbformat_minor": 0
}

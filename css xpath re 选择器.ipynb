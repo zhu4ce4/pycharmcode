{
 "cells": [
  {
   "cell_type": "code",
   "execution_count": 1,
   "metadata": {
    "collapsed": true
   },
   "outputs": [],
   "source": [
    "from scrapy.selector import Selector\n",
    "import requests"
   ]
  },
  {
   "cell_type": "code",
   "execution_count": 67,
   "metadata": {},
   "outputs": [],
   "source": [
    "url='https://www.dadatu.com/xj/xihongshishoufu/'"
   ]
  },
  {
   "cell_type": "code",
   "execution_count": 122,
   "metadata": {},
   "outputs": [],
   "source": [
    "response=requests.get(url)\n",
    "response.encoding=response.apparent_encoding"
   ]
  },
  {
   "cell_type": "code",
   "execution_count": 99,
   "metadata": {},
   "outputs": [],
   "source": [
    "# response.css('ul')    #不在scrapy里面，没有css方法"
   ]
  },
  {
   "cell_type": "code",
   "execution_count": 123,
   "metadata": {},
   "outputs": [],
   "source": [
    "sel=Selector(response=response)"
   ]
  },
  {
   "cell_type": "code",
   "execution_count": 135,
   "metadata": {},
   "outputs": [
    {
     "data": {
      "text/plain": [
       "['898653',\n '760053',\n '742479',\n '233587',\n '206434',\n '127798',\n '121665',\n '116513',\n '113549',\n '95826']"
      ]
     },
     "execution_count": 135,
     "metadata": {},
     "output_type": "execute_result"
    }
   ],
   "source": [
    "sel.css('ul.clearfix li.text-overflow  span::text').extract()"
   ]
  },
  {
   "cell_type": "code",
   "execution_count": 139,
   "metadata": {},
   "outputs": [
    {
     "data": {
      "text/plain": [
       "['/xj/xihongshishoufu/',\n '/xj/wobushiyaoshen/',\n '/xj/tangrenjietanan2/',\n '/xj/zhuoyaoji2/',\n '/xj/xiyoujinverguo/',\n '/xj/chaoshikongtongju/',\n '/xj/zuzongshijiudai/',\n '/xj/mengchongguojiang/',\n '/xj/aiqinggongyu_dadianying_/',\n '/xj/yichuhaoxi/']"
      ]
     },
     "execution_count": 139,
     "metadata": {},
     "output_type": "execute_result"
    }
   ],
   "source": [
    "sel.xpath('//ul[@class=\"clearfix\"]//li[@class=\"text-overflow \"]//a/@href').extract()"
   ]
  },
  {
   "cell_type": "code",
   "execution_count": 157,
   "metadata": {},
   "outputs": [
    {
     "data": {
      "text/plain": [
       "['<a href=\"/xj/xihongshishoufu/\" title=\"西虹市首富\"><em class=\"number  active\">1</em>西虹市首富</a>',\n '<a href=\"/xj/wobushiyaoshen/\" title=\"我不是药神\"><em class=\"number  active\">2</em>我不是药神</a>',\n '<a href=\"/xj/tangrenjietanan2/\" title=\"唐人街探案2\"><em class=\"number  active\">3</em>唐人街探案2</a>',\n '<a href=\"/xj/zhuoyaoji2/\" title=\"捉妖记2\"><em class=\"number \">4</em>捉妖记2</a>',\n '<a href=\"/xj/xiyoujinverguo/\" title=\"西游记女儿国\"><em class=\"number \">5</em>西游记女儿国</a>',\n '<a href=\"/xj/chaoshikongtongju/\" title=\"超时空同居\"><em class=\"number \">6</em>超时空同居</a>',\n '<a href=\"/xj/zuzongshijiudai/\" title=\"祖宗十九代\"><em class=\"number \">7</em>祖宗十九代</a>',\n '<a href=\"/xj/mengchongguojiang/\" title=\"猛虫过江\"><em class=\"number \">8</em>猛虫过江</a>',\n '<a href=\"/xj/aiqinggongyu_dadianying_/\" title=\"爱情公寓(大电影)\"><em class=\"number \">9</em>爱情公寓(大电影)</a>',\n '<a href=\"/xj/yichuhaoxi/\" title=\"一出好戏\"><em class=\"number \">10</em>一出好戏</a>']"
      ]
     },
     "execution_count": 157,
     "metadata": {},
     "output_type": "execute_result"
    }
   ],
   "source": [
    "sel.css('ul.clearfix li.text-overflow  a').extract()"
   ]
  },
  {
   "cell_type": "code",
   "execution_count": 166,
   "metadata": {},
   "outputs": [
    {
     "data": {
      "text/plain": [
       "['西虹市首富',\n '我不是药神',\n '唐人街探案2',\n '捉妖记2',\n '西游记女儿国',\n '超时空同居',\n '祖宗十九代',\n '猛虫过江',\n '爱情公寓(大电影)',\n '一出好戏']"
      ]
     },
     "execution_count": 166,
     "metadata": {},
     "output_type": "execute_result"
    }
   ],
   "source": [
    "sel.css('ul.clearfix li.text-overflow  a').re('title=\"(.*?)\"')"
   ]
  },
  {
   "cell_type": "code",
   "execution_count": null,
   "metadata": {},
   "outputs": [],
   "source": []
  }
 ],
 "metadata": {
  "kernelspec": {
   "display_name": "Python 2",
   "language": "python",
   "name": "python2"
  },
  "language_info": {
   "codemirror_mode": {
    "name": "ipython",
    "version": 2
   },
   "file_extension": ".py",
   "mimetype": "text/x-python",
   "name": "python",
   "nbconvert_exporter": "python",
   "pygments_lexer": "ipython2",
   "version": "2.7.6"
  }
 },
 "nbformat": 4,
 "nbformat_minor": 0
}

{
 "cells": [
  {
   "cell_type": "code",
   "execution_count": 1,
   "metadata": {},
   "outputs": [],
   "source": [
    "import requests\n",
    "from scrapy import Selector\n",
    "import os,threading"
   ]
  },
  {
   "cell_type": "markdown",
   "metadata": {},
   "source": [
    "## 下载音乐mp3文件是io密集型任务,应使用多线程!"
   ]
  },
  {
   "cell_type": "code",
   "execution_count": null,
   "metadata": {
    "scrolled": false
   },
   "outputs": [
    {
     "name": "stdout",
     "output_type": "stream",
     "text": [
      "MainThread开始!\n",
      "downLuooThread-994开始下载994期音乐......\n",
      "downLuooThread-995开始下载995期音乐......\n",
      "downLuooThread-996开始下载996期音乐......\n",
      "downLuooThread-997开始下载997期音乐......\n",
      "downLuooThread-998开始下载998期音乐......\n",
      "downLuooThread-999开始下载999期音乐......\n",
      "downLuooThread-999正在下载歌曲:Belmondo (Große Liebe)...\n",
      "downLuooThread-997正在下载歌曲:Somnipathy...\n",
      "downLuooThread-994正在下载歌曲:Traveling On...\n",
      "downLuooThread-996正在下载歌曲:Проклятие...\n",
      "downLuooThread-998正在下载歌曲:Saturday...\n",
      "downLuooThread-994正在下载歌曲:It Can’t Be Love Unless It Hurts...\n",
      "downLuooThread-998正在下载歌曲:Matador...\n",
      "downLuooThread-996正在下载歌曲:Kotikonnut...\n",
      "downLuooThread-999正在下载歌曲:Lied für Dich...\n",
      "downLuooThread-994正在下载歌曲:Fireworks...\n",
      "downLuooThread-997下载997期音乐下载完毕......\n",
      "downLuooThread-998正在下载歌曲:In My Eyes...\n",
      "downLuooThread-999正在下载歌曲:Du und ich...\n",
      "downLuooThread-996正在下载歌曲:A Bánat Kovácsa...\n",
      "downLuooThread-998正在下载歌曲:Take Your Time...\n",
      "downLuooThread-994正在下载歌曲:Sleep...\n",
      "downLuooThread-994正在下载歌曲:In Time...\n",
      "downLuooThread-996正在下载歌曲:Yuve Yuve Yu...\n",
      "downLuooThread-999正在下载歌曲:Der Moment...\n",
      "downLuooThread-999正在下载歌曲:Die Bastarde, Die Dich Jetzt Nach Hause Bringen...\n",
      "downLuooThread-996正在下载歌曲:Giella...\n",
      "downLuooThread-998正在下载歌曲:Down the Line...\n",
      "downLuooThread-999正在下载歌曲:Balu...\n",
      "downLuooThread-996正在下载歌曲:Grige maree...\n",
      "downLuooThread-998正在下载歌曲:I Need Fun In My Life...\n",
      "downLuooThread-996正在下载歌曲:Ein Schelm, wer Böses dabei denkt...\n",
      "downLuooThread-994正在下载歌曲:Lovers at School...\n",
      "downLuooThread-999正在下载歌曲:Froesche...\n",
      "downLuooThread-999正在下载歌曲:Drüben Auf Dem Hügel...\n",
      "downLuooThread-999正在下载歌曲:Wir sagen Danke für all die ganzen Jahre...\n",
      "downLuooThread-999正在下载歌曲:Ewig Leben...\n",
      "downLuooThread-999下载999期音乐下载完毕......\n",
      "downLuooThread-996正在下载歌曲:Rún...\n",
      "downLuooThread-994正在下载歌曲:Dance Till The Morning Light...\n"
     ]
    }
   ],
   "source": [
    "%%time\n",
    "\n",
    "head={'User-Agent':'Mozilla/5.0 (Windows NT 10.0; Win64; x64) AppleWebKit/537.36 (KHTML, like Gecko) Chrome/62.0.3202.94 Safari/537.36'}\n",
    "\n",
    "def downLuoo(page):\n",
    "    print(f'{threading.current_thread().name}开始下载{page}期音乐......')\n",
    "    page_source=requests.get(f'http://www.luoo.org/music/{page}.html',headers=head)\n",
    "    page_source.encoding='utf-8'\n",
    "    sel=Selector(page_source)\n",
    "    #re的编写应以源代码text打印所见为准，不应看浏览器内f12的检查:\n",
    "    res=sel.re('(?:0[123456789]|10). (.*?)</a>.*?.mp3')\n",
    "    to_filt = re.compile('''[\\\\\\\\'?/:*<\">|]''')\n",
    "    res=list(map(lambda x:re.sub(to_filt, '',x),res))\n",
    "    \n",
    "    for i in range(len(res)):\n",
    "        if not os.path.exists(f'F:\\e盘备份\\pycharmcode\\luoo\\luoo\\downluoo\\{page}'):\n",
    "                              os.mkdir(f'F:\\e盘备份\\pycharmcode\\luoo\\luoo\\downluoo\\{page}')\n",
    "        with open(f'F:\\e盘备份\\pycharmcode\\luoo\\luoo\\downluoo\\{page}\\{res[i]}.mp3','wb+') as f:\n",
    "            if i<9:\n",
    "                print(f'{threading.current_thread().name}正在下载歌曲:{res[i]}...')\n",
    "                response=requests.get(f'http://mp3-cdn.luoo.net/low/luoo/radio{page}/0{i+1}.mp3',headers=head)\n",
    "                f.write(response.content)\n",
    "            else:\n",
    "                print(f'{threading.current_thread().name}正在下载歌曲:{res[i]}...')\n",
    "                response=requests.get(f'http://mp3-cdn.luoo.net/low/luoo/radio{page}/{i+1}.mp3',headers=head)\n",
    "                f.write(response.content)\n",
    "    print(f'{threading.current_thread().name}下载{page}期音乐下载完毕......')\n",
    "   \n",
    "\n",
    "print(threading.current_thread().name+'开始!')\n",
    "ths=[]\n",
    "for page in [994,995,996,997,998,999]:\n",
    "    t =threading.Thread(target=downLuoo,args=(page,), name=f'downLuooThread-{page}')\n",
    "    ths.append(t)\n",
    "for th in ths:\n",
    "    th.start()\n",
    "for th in ths:\n",
    "    th.join()\n",
    "print(threading.current_thread().name+'完成!')"
   ]
  },
  {
   "cell_type": "markdown",
   "metadata": {},
   "source": [
    "## 利用多进程池!"
   ]
  },
  {
   "cell_type": "code",
   "execution_count": 1,
   "metadata": {},
   "outputs": [],
   "source": [
    "import re\n",
    "from scrapy import Selector\n",
    "import os\n",
    "from multiprocessing import Pool\n",
    "import requests"
   ]
  },
  {
   "cell_type": "code",
   "execution_count": null,
   "metadata": {},
   "outputs": [
    {
     "name": "stdout",
     "output_type": "stream",
     "text": [
      "开始!\n",
      "1\n"
     ]
    }
   ],
   "source": [
    "%%time\n",
    "\n",
    "head={'User-Agent':'Mozilla/5.0 (Windows NT 10.0; Win64; x64) AppleWebKit/537.36 (KHTML, like Gecko) Chrome/62.0.3202.94 Safari/537.36'}\n",
    "\n",
    "def downLuoo(page):\n",
    "    print(3)\n",
    "    print(f'开始下载{page}期音乐......')\n",
    "    page_source=requests.get(f'http://www.luoo.org/music/{page}.html',headers=head)\n",
    "    page_source.encoding='utf-8'\n",
    "    sel=Selector(page_source)\n",
    "    #re的编写应以源代码text打印所见为准，不应看浏览器内f12的检查:\n",
    "    res=sel.re('(?:0[123456789]|10). (.*?)</a>.*?.mp3')\n",
    "    to_filt = re.compile('''[\\\\\\\\'?/:*<\">|]''')\n",
    "    res=list(map(lambda x:re.sub(to_filt, '',x),res))\n",
    "    \n",
    "    for i in range(len(res)):\n",
    "        if not os.path.exists(f'F:\\e盘备份\\pycharmcode\\luoo\\luoo\\downluoo\\{page}'):\n",
    "                              os.mkdir(f'F:\\e盘备份\\pycharmcode\\luoo\\luoo\\downluoo\\{page}')\n",
    "        with open(f'F:\\e盘备份\\pycharmcode\\luoo\\luoo\\downluoo\\{page}\\{res[i]}.mp3','wb+') as f:\n",
    "            if i<9:\n",
    "                print(f'正在下载歌曲:{res[i]}...')\n",
    "                response=requests.get(f'http://mp3-cdn.luoo.net/low/luoo/radio{page}/0{i+1}.mp3',headers=head)\n",
    "                f.write(response.content)\n",
    "            else:\n",
    "                print(f'正在下载歌曲:{res[i]}...')\n",
    "                response=requests.get(f'http://mp3-cdn.luoo.net/low/luoo/radio{page}/{i+1}.mp3',headers=head)\n",
    "                f.write(response.content)\n",
    "    print(f'下载{page}期音乐下载完毕......')\n",
    "   \n",
    "\n",
    "\n",
    "if __name__ == '__main__':\n",
    "    print('开始!')\n",
    "    pool = Pool(4)\n",
    "    print(1)\n",
    "    pool.map(downLuoo,[994,995,996,997,998,999])\n",
    "    print(2)\n",
    "    pool.close()\n",
    "    pool.join()\n",
    "    print('完成!')"
   ]
  },
  {
   "cell_type": "code",
   "execution_count": null,
   "metadata": {},
   "outputs": [],
   "source": []
  },
  {
   "cell_type": "code",
   "execution_count": 148,
   "metadata": {},
   "outputs": [],
   "source": [
    "import re\n",
    "from scrapy import Selector\n",
    "import os\n",
    "from multiprocessing import Pool\n",
    "import requests,time\n",
    "\n",
    "headers = {\n",
    "    'User-Agent': 'Mozilla/5.0 (Windows NT 10.0; Win64; x64) AppleWebKit/537.36 (KHTML, like Gecko) Chrome/62.0.3202.94 Safari/537.36'}\n",
    "\n",
    "def downLuoo(page):\n",
    "    print(f'开始下载{page}期音乐......')\n",
    "    page_source = requests.get(f'http://www.luoo.org/music/{page}.html', headers=headers)\n",
    "    page_source.encoding = 'utf-8'\n",
    "    sel = Selector(page_source)\n",
    "    # re的编写应以源代码text打印所见为准，不应看浏览器内f12的检查:\n",
    "    res = sel.re('(?:0[123456789]|10). (.*?)</a>.*?.mp3')\n",
    "    #用re将不能出现在文件名中的特殊字符去掉\n",
    "    to_filt = re.compile('''[\\\\\\\\'?/:*<\">|]''')\n",
    "    res=list(map(lambda x:re.sub(to_filt, '',x),res))\n",
    "\n",
    "    for i in range(len(res)):\n",
    "        if not os.path.exists(f'F:/MPtest/luoo/{page}'):\n",
    "            os.mkdir(f'F:/MPtest/luoo/{page}')\n",
    "        try:\n",
    "            with open(f'F:/MPtest/luoo/{page}/{res[i]}.mp3', 'wb+') as f:\n",
    "                if i < 9:\n",
    "                    print(f'正在下载歌曲:{res[i]}...')\n",
    "                    response = requests.get(f'http://mp3-cdn.luoo.net/low/luoo/radio{page}/0{i + 1}.mp3',\n",
    "                                            headers=headers)\n",
    "                    f.write(response.content)\n",
    "                else:\n",
    "                    print(f'正在下载歌曲:{res[i]}...')\n",
    "                    response = requests.get(f'http://mp3-cdn.luoo.net/low/luoo/radio{page}/{i + 1}.mp3',\n",
    "                                            headers=headers)\n",
    "                    f.write(response.content)\n",
    "        except Exception as e:\n",
    "            print(f'-----------------出错警告:{page}期的歌曲:{res[i]}下载出错!-----------------')\n",
    "            print('-----------------报错如下:-----------------')\n",
    "            print(e)\n",
    "    print(f'下载{page}期音乐下载完毕......')\n",
    "\n",
    "if __name__ == '__main__':\n",
    "    startTime=time.time()\n",
    "    pool = Pool(4)\n",
    "    pool.map(downLuoo, [994, 995, 996, 997, 998, 999])\n",
    "    pool.close()\n",
    "    pool.join()\n",
    "    print('共用时:', time.time() - startTime)"
   ]
  },
  {
   "cell_type": "code",
   "execution_count": null,
   "metadata": {},
   "outputs": [],
   "source": []
  },
  {
   "cell_type": "code",
   "execution_count": 33,
   "metadata": {},
   "outputs": [],
   "source": []
  },
  {
   "cell_type": "code",
   "execution_count": 128,
   "metadata": {},
   "outputs": [],
   "source": []
  },
  {
   "cell_type": "code",
   "execution_count": null,
   "metadata": {},
   "outputs": [],
   "source": []
  },
  {
   "cell_type": "code",
   "execution_count": null,
   "metadata": {},
   "outputs": [],
   "source": []
  },
  {
   "cell_type": "code",
   "execution_count": null,
   "metadata": {},
   "outputs": [],
   "source": []
  },
  {
   "cell_type": "code",
   "execution_count": null,
   "metadata": {},
   "outputs": [],
   "source": []
  },
  {
   "cell_type": "code",
   "execution_count": null,
   "metadata": {},
   "outputs": [],
   "source": []
  },
  {
   "cell_type": "code",
   "execution_count": null,
   "metadata": {},
   "outputs": [],
   "source": []
  },
  {
   "cell_type": "code",
   "execution_count": null,
   "metadata": {},
   "outputs": [],
   "source": []
  }
 ],
 "metadata": {
  "kernelspec": {
   "display_name": "Python 3",
   "language": "python",
   "name": "python3"
  },
  "language_info": {
   "codemirror_mode": {
    "name": "ipython",
    "version": 3
   },
   "file_extension": ".py",
   "mimetype": "text/x-python",
   "name": "python",
   "nbconvert_exporter": "python",
   "pygments_lexer": "ipython3",
   "version": "3.7.2"
  }
 },
 "nbformat": 4,
 "nbformat_minor": 2
}

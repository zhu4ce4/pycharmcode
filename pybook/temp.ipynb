{
 "cells": [
  {
   "cell_type": "code",
   "execution_count": 4,
   "metadata": {},
   "outputs": [],
   "source": [
    "import scrapy\n",
    "import requests\n",
    "import re\n",
    "from scrapy import Selector"
   ]
  },
  {
   "cell_type": "code",
   "execution_count": 6,
   "metadata": {},
   "outputs": [],
   "source": [
    ""
   ]
  },
  {
   "cell_type": "code",
   "execution_count": 5,
   "metadata": {},
   "outputs": [],
   "source": [
    "url='https://www.amazon.cn/s/ref=nb_sb_noss?__mk_zh_CN=%E4%BA%9A%E9%A9%AC%E9%80%8A%E7%BD%91%E7%AB%99&url=search-alias%3Dstripbooks&field-keywords=python&rh=n%3A658390051%2Ck%3Apython'\n",
    "headers={'User-Agent': 'Mozilla/5.0 (Windows NT 10.0; Win64; x64) AppleWebKit/537.36 (KHTML, like Gecko) Chrome/68.0.3440.106 Safari/537.36'}\n",
    "response=requests.get(url,headers=headers)"
   ]
  },
  {
   "cell_type": "code",
   "execution_count": 10,
   "metadata": {},
   "outputs": [
    {
     "name": "stdout",
     "output_type": "stream",
     "text": [
      "Python编程 从入门到实践\nPython基础教程(第3版)\nPython编程快速上手:让繁琐工作自动化\n流畅的Python\n利用Python进行数据分析\nPython核心编程(第3版)\n量化交易之路:用Python做股票量化分析\n没有电子书 图灵程序设计丛书:Python基础教程(第2版)(修订版)\n\"笨办法\"学Python(第3版)\nPython学习手册(第4版)\n"
     ]
    }
   ],
   "source": [
    "sel=Selector(response=response)\n",
    "infos=sel.css('li.s-result-item.celwidget  ')\n",
    "pattern = re.compile('[\\u4e00-\\u9fa5]')\n",
    "for info in infos:\n",
    "    name = info.css('h2::text').extract_first()\n",
    "    if re.search(pattern, name):\n",
    "        dianzishu_pass = info.css('div.a-row.a-spacing-none a h3::text').extract()\n",
    "        if '电子书' not in dianzishu_pass[0]:\n",
    "            book_link = info.xpath('.//h2/../@href').extract_first()\n",
    "            if len(dianzishu_pass) > 1:\n",
    "                if '电子书' in dianzishu_pass[1]:\n",
    "                    print(name)\n",
    "            else:\n",
    "                print('没有电子书',name)"
   ]
  },
  {
   "cell_type": "code",
   "execution_count": 11,
   "metadata": {},
   "outputs": [],
   "source": [
    ""
   ]
  },
  {
   "cell_type": "code",
   "execution_count": 93,
   "metadata": {},
   "outputs": [
    {
     "name": "stdout",
     "output_type": "stream",
     "text": [
      "用Python写网络爬虫 第2版\nhttps://www.amazon.cn/dp/B07F84FQB5/ref=sr_1_34/457-5159810-8402927?s=books&ie=UTF8&qid=1534829441&sr=1-34&keywords=python\n玩转Python网络爬虫\nhttps://www.amazon.cn/dp/B07DY286TN/ref=sr_1_35/457-5159810-8402927?s=books&ie=UTF8&qid=1534829441&sr=1-35&keywords=python\n深度学习原理与实践\nhttps://www.amazon.cn/dp/B07G1XXWKR/ref=sr_1_36/457-5159810-8402927?s=books&ie=UTF8&qid=1534829441&sr=1-36&keywords=python\n数据采集技术—Python网络爬虫项目化教程\nhttps://www.amazon.cn/dp/B07GJJGWKJ/ref=sr_1_37/457-5159810-8402927?s=books&ie=UTF8&qid=1534829441&sr=1-37&keywords=python\nPython 3 数据分析与机器学习实战\nhttps://www.amazon.cn/dp/B07GJFQ27N/ref=sr_1_38/457-5159810-8402927?s=books&ie=UTF8&qid=1534829441&sr=1-38&keywords=python\n编程超有趣 奇妙Python轻松学 第1辑\nhttps://www.amazon.cn/dp/B07G273SH3/ref=sr_1_39/457-5159810-8402927?s=books&ie=UTF8&qid=1534829441&sr=1-39&keywords=python\n初中生Scratch趣味程序设计\nhttps://www.amazon.cn/dp/B07G234DMH/ref=sr_1_40/457-5159810-8402927?s=books&ie=UTF8&qid=1534829441&sr=1-40&keywords=python\n程序员学Python\nhttps://www.amazon.cn/dp/B07G22MQQ3/ref=sr_1_41/457-5159810-8402927?s=books&ie=UTF8&qid=1534829441&sr=1-41&keywords=python\nPython程序设计入门(21世纪高等学校计算机基础实用规划教材)\nhttps://www.amazon.cn/dp/B07FDN2LQF/ref=sr_1_42/457-5159810-8402927?s=books&ie=UTF8&qid=1534829441&sr=1-42&keywords=python\n"
     ]
    }
   ],
   "source": [
    "next_url=sel.css('a#pagnNextLink::attr(href)').extract_first()\n",
    "next_url='https://www.amazon.cn'+next_url\n",
    "response=requests.get(next_url,headers=headers)\n",
    "sel=scrapy.Selector(response=response)\n",
    "infos=sel.css('li.s-result-item.celwidget  ')\n",
    "pattern=re.compile('[\\u4e00-\\u9fa5]')\n",
    "for info in infos:\n",
    "    name=info.css('h2::text').extract_first()\n",
    "    if re.search(pattern,name):\n",
    "        print(name)\n",
    "        dianzishu_ornot=info.css('h3::text').extract_first()\n",
    "        if '电子书' not in dianzishu_ornot:\n",
    "            book_link=info.xpath('.//h2/../@href').extract_first()\n",
    "            print(book_link)\n",
    "    else:\n",
    "        continue\n",
    "    \n"
   ]
  },
  {
   "cell_type": "code",
   "execution_count": 181,
   "metadata": {},
   "outputs": [],
   "source": [
    "url='https://www.amazon.cn/s/ref=sr_ex_p_n_binding_browse-b_0?rh=n%3A658390051%2Ck%3Apython&keywords=python&ie=UTF8&qid=1534833757'"
   ]
  },
  {
   "cell_type": "code",
   "execution_count": 182,
   "metadata": {},
   "outputs": [],
   "source": [
    "response=requests.get(url,headers=headers)"
   ]
  },
  {
   "cell_type": "code",
   "execution_count": 169,
   "metadata": {},
   "outputs": [],
   "source": [
    "sel=scrapy.Selector(response=response)\n",
    "name=sel.xpath('string(.//h1[@id=\"title\"])').extract_first()\n",
    "# name=sel.xpath('string(.//div[@id=\"bylineInfo\"])').extract()"
   ]
  },
  {
   "cell_type": "code",
   "execution_count": 170,
   "metadata": {},
   "outputs": [
    {
     "data": {
      "text/plain": [
       "'\\n      Python编程 从入门到实践\\n      \\n      \\n        Tapa blanda\\n\\n        \\n        \\n        \\n        \\n\\n        \\n        \\n\\n        \\n          \\n            \\n            \\n              \\n            \\n          \\n        \\n\\n        \\n          – 2018年1月26日\\n        \\n      \\n      \\n      \\n    '"
      ]
     },
     "execution_count": 170,
     "metadata": {},
     "output_type": "execute_result"
    }
   ],
   "source": [
    "name"
   ]
  },
  {
   "cell_type": "code",
   "execution_count": 200,
   "metadata": {},
   "outputs": [],
   "source": [
    "def replacesth(sth):\n",
    "    return sth.replace(' ','').replace('\\n','').replace('\\t','').replace('–','').split(',')"
   ]
  },
  {
   "cell_type": "code",
   "execution_count": 173,
   "metadata": {},
   "outputs": [
    {
     "data": {
      "text/plain": [
       "'Python编程从入门到实践'"
      ]
     },
     "execution_count": 173,
     "metadata": {},
     "output_type": "execute_result"
    }
   ],
   "source": [
    "replacesth(name).split('Tapablanda')[0]"
   ]
  },
  {
   "cell_type": "code",
   "execution_count": 3,
   "metadata": {},
   "outputs": [
    {
     "ename": "NameError",
     "evalue": "name 'requests' is not defined",
     "traceback": [
      "\u001b[1;31m---------------------------------------------------------------------------\u001b[0m",
      "\u001b[1;31mNameError\u001b[0m                                 Traceback (most recent call last)",
      "\u001b[1;32m<ipython-input-3-f0a4bf44df40>\u001b[0m in \u001b[0;36m<module>\u001b[1;34m()\u001b[0m\n\u001b[0;32m      1\u001b[0m \u001b[0murl\u001b[0m\u001b[1;33m=\u001b[0m\u001b[1;34m'https://www.amazon.cn/s/ref=sr_pg_2?rh=n%3A658390051%2Ck%3Apython&page=1&keywords=python&ie=UTF8&qid=1534832397'\u001b[0m\u001b[1;33m\u001b[0m\u001b[0m\n\u001b[1;32m----> 2\u001b[1;33m \u001b[0mresponse\u001b[0m\u001b[1;33m=\u001b[0m\u001b[0mrequests\u001b[0m\u001b[1;33m.\u001b[0m\u001b[0mget\u001b[0m\u001b[1;33m(\u001b[0m\u001b[0murl\u001b[0m\u001b[1;33m,\u001b[0m\u001b[0mheaders\u001b[0m\u001b[1;33m=\u001b[0m\u001b[0mheaders\u001b[0m\u001b[1;33m)\u001b[0m\u001b[1;33m\u001b[0m\u001b[0m\n\u001b[0m\u001b[0;32m      3\u001b[0m \u001b[0msel\u001b[0m\u001b[1;33m=\u001b[0m\u001b[0mscrapy\u001b[0m\u001b[1;33m.\u001b[0m\u001b[0mSelector\u001b[0m\u001b[1;33m(\u001b[0m\u001b[0mresponse\u001b[0m\u001b[1;33m=\u001b[0m\u001b[0mresponse\u001b[0m\u001b[1;33m)\u001b[0m\u001b[1;33m\u001b[0m\u001b[0m\n",
      "\u001b[1;31mNameError\u001b[0m: name 'requests' is not defined"
     ],
     "output_type": "error"
    }
   ],
   "source": [
    "url='https://www.amazon.cn/s/ref=sr_pg_2?rh=n%3A658390051%2Ck%3Apython&page=1&keywords=python&ie=UTF8&qid=1534832397'\n",
    "response=requests.get(url,headers=headers)\n",
    "sel=scrapy.Selector(response=response)"
   ]
  },
  {
   "cell_type": "code",
   "execution_count": 317,
   "metadata": {},
   "outputs": [
    {
     "data": {
      "text/plain": [
       "'89%'"
      ]
     },
     "execution_count": 317,
     "metadata": {},
     "output_type": "execute_result"
    }
   ],
   "source": [
    "a=int(sel.xpath('//*[text()=\"5 星\"]/../following-sibling::td[2]//text()').extract_first()[:-1])\n",
    "b=int(sel.xpath('//*[text()=\"4 星\"]/../following-sibling::td[2]//text()').extract_first()[:-1])\n",
    "str(a+b)+'%'"
   ]
  },
  {
   "cell_type": "code",
   "execution_count": 321,
   "metadata": {},
   "outputs": [
    {
     "name": "stdout",
     "output_type": "stream",
     "text": [
      "发现一本电子书a                   ，没有纸质书\n发现一本电子书aaaa                ，没有纸质书\n发现一本电子书aaaaaaaaaa          ，没有纸质书\n发现一本电子书aaaaaaaaaaaaaaaaaaaaaaa，没有纸质书\n"
     ]
    }
   ],
   "source": [
    "name=['a','aaaa','aaaaaaaaaa','aaaaaaaaaaaaaaaaaaaaaaa']\n",
    "for i in name:\n",
    "    print(f'发现一本电子书{i:20s}，没有纸质书')"
   ]
  },
  {
   "cell_type": "code",
   "execution_count": 1,
   "metadata": {},
   "outputs": [],
   "source": [
    "from scrapy.cmdline import execute"
   ]
  },
  {
   "cell_type": "code",
   "execution_count": 2,
   "metadata": {},
   "outputs": [
    {
     "name": "stderr",
     "output_type": "stream",
     "text": [
      "2018-08-21 17:34:17 [scrapy.utils.log] INFO: Scrapy 1.5.0 started (bot: scrapybot)\n"
     ]
    },
    {
     "name": "stderr",
     "output_type": "stream",
     "text": [
      "2018-08-21 17:34:17 [scrapy.utils.log] INFO: Versions: lxml 4.2.2.0, libxml2 2.9.5, cssselect 1.0.3, parsel 1.4.0, w3lib 1.19.0, Twisted 17.5.0, Python 3.6.5 |Anaconda custom (64-bit)| (default, Mar 29 2018, 13:32:41) [MSC v.1900 64 bit (AMD64)], pyOpenSSL 18.0.0 (OpenSSL 1.0.2o  27 Mar 2018), cryptography 2.2.2, Platform Windows-10-10.0.17134-SP0\n"
     ]
    },
    {
     "name": "stderr",
     "output_type": "stream",
     "text": [
      "2018-08-21 17:34:17 [scrapy.crawler] INFO: Overridden settings: {'DUPEFILTER_CLASS': 'scrapy.dupefilters.BaseDupeFilter', 'LOGSTATS_INTERVAL': 0}\n"
     ]
    },
    {
     "name": "stderr",
     "output_type": "stream",
     "text": [
      "2018-08-21 17:34:17 [scrapy.middleware] INFO: Enabled extensions:\n['scrapy.extensions.corestats.CoreStats',\n 'scrapy.extensions.telnet.TelnetConsole']\n"
     ]
    },
    {
     "name": "stderr",
     "output_type": "stream",
     "text": [
      "2018-08-21 17:34:18 [scrapy.middleware] INFO: Enabled downloader middlewares:\n['scrapy.downloadermiddlewares.httpauth.HttpAuthMiddleware',\n 'scrapy.downloadermiddlewares.downloadtimeout.DownloadTimeoutMiddleware',\n 'scrapy.downloadermiddlewares.defaultheaders.DefaultHeadersMiddleware',\n 'scrapy.downloadermiddlewares.useragent.UserAgentMiddleware',\n 'scrapy.downloadermiddlewares.retry.RetryMiddleware',\n 'scrapy.downloadermiddlewares.redirect.MetaRefreshMiddleware',\n 'scrapy.downloadermiddlewares.httpcompression.HttpCompressionMiddleware',\n 'scrapy.downloadermiddlewares.redirect.RedirectMiddleware',\n 'scrapy.downloadermiddlewares.cookies.CookiesMiddleware',\n 'scrapy.downloadermiddlewares.httpproxy.HttpProxyMiddleware',\n 'scrapy.downloadermiddlewares.stats.DownloaderStats']\n"
     ]
    },
    {
     "name": "stderr",
     "output_type": "stream",
     "text": [
      "2018-08-21 17:34:18 [scrapy.middleware] INFO: Enabled spider middlewares:\n['scrapy.spidermiddlewares.httperror.HttpErrorMiddleware',\n 'scrapy.spidermiddlewares.offsite.OffsiteMiddleware',\n 'scrapy.spidermiddlewares.referer.RefererMiddleware',\n 'scrapy.spidermiddlewares.urllength.UrlLengthMiddleware',\n 'scrapy.spidermiddlewares.depth.DepthMiddleware']\n"
     ]
    },
    {
     "name": "stderr",
     "output_type": "stream",
     "text": [
      "2018-08-21 17:34:18 [scrapy.middleware] INFO: Enabled item pipelines:\n[]\n"
     ]
    },
    {
     "name": "stderr",
     "output_type": "stream",
     "text": [
      "2018-08-21 17:34:18 [scrapy.extensions.telnet] DEBUG: Telnet console listening on 127.0.0.1:6023\n"
     ]
    },
    {
     "name": "stderr",
     "output_type": "stream",
     "text": [
      "2018-08-21 17:34:18 [scrapy.core.engine] INFO: Spider opened\n"
     ]
    },
    {
     "name": "stderr",
     "output_type": "stream",
     "text": [
      "2018-08-21 17:34:18 [scrapy.core.engine] DEBUG: Crawled (200) <GET http://www.baidu.com> (referer: None)\n"
     ]
    },
    {
     "ename": "MultipleInstanceError",
     "evalue": "Multiple incompatible subclass instances of InteractiveShellEmbed are being created.",
     "traceback": [
      "\u001b[1;31m---------------------------------------------------------------------------\u001b[0m",
      "\u001b[1;31mMultipleInstanceError\u001b[0m                     Traceback (most recent call last)",
      "\u001b[1;32m<ipython-input-2-309360016c87>\u001b[0m in \u001b[0;36m<module>\u001b[1;34m()\u001b[0m\n\u001b[1;32m----> 1\u001b[1;33m \u001b[0mexecute\u001b[0m\u001b[1;33m(\u001b[0m\u001b[1;34m'scrapy shell http://www.baidu.com'\u001b[0m\u001b[1;33m.\u001b[0m\u001b[0msplit\u001b[0m\u001b[1;33m(\u001b[0m\u001b[1;33m)\u001b[0m\u001b[1;33m)\u001b[0m\u001b[1;33m\u001b[0m\u001b[0m\n\u001b[0m",
      "\u001b[1;32mD:\\Anaconda3\\lib\\site-packages\\scrapy\\cmdline.py\u001b[0m in \u001b[0;36mexecute\u001b[1;34m(argv, settings)\u001b[0m\n\u001b[0;32m    148\u001b[0m \u001b[1;33m\u001b[0m\u001b[0m\n\u001b[0;32m    149\u001b[0m     \u001b[0mcmd\u001b[0m\u001b[1;33m.\u001b[0m\u001b[0mcrawler_process\u001b[0m \u001b[1;33m=\u001b[0m \u001b[0mCrawlerProcess\u001b[0m\u001b[1;33m(\u001b[0m\u001b[0msettings\u001b[0m\u001b[1;33m)\u001b[0m\u001b[1;33m\u001b[0m\u001b[0m\n\u001b[1;32m--> 150\u001b[1;33m     \u001b[0m_run_print_help\u001b[0m\u001b[1;33m(\u001b[0m\u001b[0mparser\u001b[0m\u001b[1;33m,\u001b[0m \u001b[0m_run_command\u001b[0m\u001b[1;33m,\u001b[0m \u001b[0mcmd\u001b[0m\u001b[1;33m,\u001b[0m \u001b[0margs\u001b[0m\u001b[1;33m,\u001b[0m \u001b[0mopts\u001b[0m\u001b[1;33m)\u001b[0m\u001b[1;33m\u001b[0m\u001b[0m\n\u001b[0m\u001b[0;32m    151\u001b[0m     \u001b[0msys\u001b[0m\u001b[1;33m.\u001b[0m\u001b[0mexit\u001b[0m\u001b[1;33m(\u001b[0m\u001b[0mcmd\u001b[0m\u001b[1;33m.\u001b[0m\u001b[0mexitcode\u001b[0m\u001b[1;33m)\u001b[0m\u001b[1;33m\u001b[0m\u001b[0m\n\u001b[0;32m    152\u001b[0m \u001b[1;33m\u001b[0m\u001b[0m\n",
      "\u001b[1;32mD:\\Anaconda3\\lib\\site-packages\\scrapy\\cmdline.py\u001b[0m in \u001b[0;36m_run_print_help\u001b[1;34m(parser, func, *a, **kw)\u001b[0m\n\u001b[0;32m     88\u001b[0m \u001b[1;32mdef\u001b[0m \u001b[0m_run_print_help\u001b[0m\u001b[1;33m(\u001b[0m\u001b[0mparser\u001b[0m\u001b[1;33m,\u001b[0m \u001b[0mfunc\u001b[0m\u001b[1;33m,\u001b[0m \u001b[1;33m*\u001b[0m\u001b[0ma\u001b[0m\u001b[1;33m,\u001b[0m \u001b[1;33m**\u001b[0m\u001b[0mkw\u001b[0m\u001b[1;33m)\u001b[0m\u001b[1;33m:\u001b[0m\u001b[1;33m\u001b[0m\u001b[0m\n\u001b[0;32m     89\u001b[0m     \u001b[1;32mtry\u001b[0m\u001b[1;33m:\u001b[0m\u001b[1;33m\u001b[0m\u001b[0m\n\u001b[1;32m---> 90\u001b[1;33m         \u001b[0mfunc\u001b[0m\u001b[1;33m(\u001b[0m\u001b[1;33m*\u001b[0m\u001b[0ma\u001b[0m\u001b[1;33m,\u001b[0m \u001b[1;33m**\u001b[0m\u001b[0mkw\u001b[0m\u001b[1;33m)\u001b[0m\u001b[1;33m\u001b[0m\u001b[0m\n\u001b[0m\u001b[0;32m     91\u001b[0m     \u001b[1;32mexcept\u001b[0m \u001b[0mUsageError\u001b[0m \u001b[1;32mas\u001b[0m \u001b[0me\u001b[0m\u001b[1;33m:\u001b[0m\u001b[1;33m\u001b[0m\u001b[0m\n\u001b[0;32m     92\u001b[0m         \u001b[1;32mif\u001b[0m \u001b[0mstr\u001b[0m\u001b[1;33m(\u001b[0m\u001b[0me\u001b[0m\u001b[1;33m)\u001b[0m\u001b[1;33m:\u001b[0m\u001b[1;33m\u001b[0m\u001b[0m\n",
      "\u001b[1;32mD:\\Anaconda3\\lib\\site-packages\\scrapy\\cmdline.py\u001b[0m in \u001b[0;36m_run_command\u001b[1;34m(cmd, args, opts)\u001b[0m\n\u001b[0;32m    155\u001b[0m         \u001b[0m_run_command_profiled\u001b[0m\u001b[1;33m(\u001b[0m\u001b[0mcmd\u001b[0m\u001b[1;33m,\u001b[0m \u001b[0margs\u001b[0m\u001b[1;33m,\u001b[0m \u001b[0mopts\u001b[0m\u001b[1;33m)\u001b[0m\u001b[1;33m\u001b[0m\u001b[0m\n\u001b[0;32m    156\u001b[0m     \u001b[1;32melse\u001b[0m\u001b[1;33m:\u001b[0m\u001b[1;33m\u001b[0m\u001b[0m\n\u001b[1;32m--> 157\u001b[1;33m         \u001b[0mcmd\u001b[0m\u001b[1;33m.\u001b[0m\u001b[0mrun\u001b[0m\u001b[1;33m(\u001b[0m\u001b[0margs\u001b[0m\u001b[1;33m,\u001b[0m \u001b[0mopts\u001b[0m\u001b[1;33m)\u001b[0m\u001b[1;33m\u001b[0m\u001b[0m\n\u001b[0m\u001b[0;32m    158\u001b[0m \u001b[1;33m\u001b[0m\u001b[0m\n\u001b[0;32m    159\u001b[0m \u001b[1;32mdef\u001b[0m \u001b[0m_run_command_profiled\u001b[0m\u001b[1;33m(\u001b[0m\u001b[0mcmd\u001b[0m\u001b[1;33m,\u001b[0m \u001b[0margs\u001b[0m\u001b[1;33m,\u001b[0m \u001b[0mopts\u001b[0m\u001b[1;33m)\u001b[0m\u001b[1;33m:\u001b[0m\u001b[1;33m\u001b[0m\u001b[0m\n",
      "\u001b[1;32mD:\\Anaconda3\\lib\\site-packages\\scrapy\\commands\\shell.py\u001b[0m in \u001b[0;36mrun\u001b[1;34m(self, args, opts)\u001b[0m\n\u001b[0;32m     71\u001b[0m \u001b[1;33m\u001b[0m\u001b[0m\n\u001b[0;32m     72\u001b[0m         \u001b[0mshell\u001b[0m \u001b[1;33m=\u001b[0m \u001b[0mShell\u001b[0m\u001b[1;33m(\u001b[0m\u001b[0mcrawler\u001b[0m\u001b[1;33m,\u001b[0m \u001b[0mupdate_vars\u001b[0m\u001b[1;33m=\u001b[0m\u001b[0mself\u001b[0m\u001b[1;33m.\u001b[0m\u001b[0mupdate_vars\u001b[0m\u001b[1;33m,\u001b[0m \u001b[0mcode\u001b[0m\u001b[1;33m=\u001b[0m\u001b[0mopts\u001b[0m\u001b[1;33m.\u001b[0m\u001b[0mcode\u001b[0m\u001b[1;33m)\u001b[0m\u001b[1;33m\u001b[0m\u001b[0m\n\u001b[1;32m---> 73\u001b[1;33m         \u001b[0mshell\u001b[0m\u001b[1;33m.\u001b[0m\u001b[0mstart\u001b[0m\u001b[1;33m(\u001b[0m\u001b[0murl\u001b[0m\u001b[1;33m=\u001b[0m\u001b[0murl\u001b[0m\u001b[1;33m,\u001b[0m \u001b[0mredirect\u001b[0m\u001b[1;33m=\u001b[0m\u001b[1;32mnot\u001b[0m \u001b[0mopts\u001b[0m\u001b[1;33m.\u001b[0m\u001b[0mno_redirect\u001b[0m\u001b[1;33m)\u001b[0m\u001b[1;33m\u001b[0m\u001b[0m\n\u001b[0m\u001b[0;32m     74\u001b[0m \u001b[1;33m\u001b[0m\u001b[0m\n\u001b[0;32m     75\u001b[0m     \u001b[1;32mdef\u001b[0m \u001b[0m_start_crawler_thread\u001b[0m\u001b[1;33m(\u001b[0m\u001b[0mself\u001b[0m\u001b[1;33m)\u001b[0m\u001b[1;33m:\u001b[0m\u001b[1;33m\u001b[0m\u001b[0m\n",
      "\u001b[1;32mD:\\Anaconda3\\lib\\site-packages\\scrapy\\shell.py\u001b[0m in \u001b[0;36mstart\u001b[1;34m(self, url, request, response, spider, redirect)\u001b[0m\n\u001b[0;32m     79\u001b[0m             \u001b[0mshells\u001b[0m \u001b[1;33m+=\u001b[0m \u001b[1;33m[\u001b[0m\u001b[1;34m'python'\u001b[0m\u001b[1;33m]\u001b[0m\u001b[1;33m\u001b[0m\u001b[0m\n\u001b[0;32m     80\u001b[0m             start_python_console(self.vars, shells=shells,\n\u001b[1;32m---> 81\u001b[1;33m                                  banner=self.vars.pop('banner', ''))\n\u001b[0m\u001b[0;32m     82\u001b[0m \u001b[1;33m\u001b[0m\u001b[0m\n\u001b[0;32m     83\u001b[0m     \u001b[1;32mdef\u001b[0m \u001b[0m_schedule\u001b[0m\u001b[1;33m(\u001b[0m\u001b[0mself\u001b[0m\u001b[1;33m,\u001b[0m \u001b[0mrequest\u001b[0m\u001b[1;33m,\u001b[0m \u001b[0mspider\u001b[0m\u001b[1;33m)\u001b[0m\u001b[1;33m:\u001b[0m\u001b[1;33m\u001b[0m\u001b[0m\n",
      "\u001b[1;32mD:\\Anaconda3\\lib\\site-packages\\scrapy\\utils\\console.py\u001b[0m in \u001b[0;36mstart_python_console\u001b[1;34m(namespace, banner, shells)\u001b[0m\n\u001b[0;32m     90\u001b[0m         \u001b[0mshell\u001b[0m \u001b[1;33m=\u001b[0m \u001b[0mget_shell_embed_func\u001b[0m\u001b[1;33m(\u001b[0m\u001b[0mshells\u001b[0m\u001b[1;33m)\u001b[0m\u001b[1;33m\u001b[0m\u001b[0m\n\u001b[0;32m     91\u001b[0m         \u001b[1;32mif\u001b[0m \u001b[0mshell\u001b[0m \u001b[1;32mis\u001b[0m \u001b[1;32mnot\u001b[0m \u001b[1;32mNone\u001b[0m\u001b[1;33m:\u001b[0m\u001b[1;33m\u001b[0m\u001b[0m\n\u001b[1;32m---> 92\u001b[1;33m             \u001b[0mshell\u001b[0m\u001b[1;33m(\u001b[0m\u001b[0mnamespace\u001b[0m\u001b[1;33m=\u001b[0m\u001b[0mnamespace\u001b[0m\u001b[1;33m,\u001b[0m \u001b[0mbanner\u001b[0m\u001b[1;33m=\u001b[0m\u001b[0mbanner\u001b[0m\u001b[1;33m)\u001b[0m\u001b[1;33m\u001b[0m\u001b[0m\n\u001b[0m\u001b[0;32m     93\u001b[0m     \u001b[1;32mexcept\u001b[0m \u001b[0mSystemExit\u001b[0m\u001b[1;33m:\u001b[0m \u001b[1;31m# raised when using exit() in python code.interact\u001b[0m\u001b[1;33m\u001b[0m\u001b[0m\n\u001b[0;32m     94\u001b[0m         \u001b[1;32mpass\u001b[0m\u001b[1;33m\u001b[0m\u001b[0m\n",
      "\u001b[1;32mD:\\Anaconda3\\lib\\site-packages\\scrapy\\utils\\console.py\u001b[0m in \u001b[0;36mwrapper\u001b[1;34m(namespace, banner)\u001b[0m\n\u001b[0;32m     20\u001b[0m         \u001b[0mInteractiveShellEmbed\u001b[0m\u001b[1;33m.\u001b[0m\u001b[0mclear_instance\u001b[0m\u001b[1;33m(\u001b[0m\u001b[1;33m)\u001b[0m\u001b[1;33m\u001b[0m\u001b[0m\n\u001b[0;32m     21\u001b[0m         shell = InteractiveShellEmbed.instance(\n\u001b[1;32m---> 22\u001b[1;33m             banner1=banner, user_ns=namespace, config=config)\n\u001b[0m\u001b[0;32m     23\u001b[0m         \u001b[0mshell\u001b[0m\u001b[1;33m(\u001b[0m\u001b[1;33m)\u001b[0m\u001b[1;33m\u001b[0m\u001b[0m\n\u001b[0;32m     24\u001b[0m     \u001b[1;32mreturn\u001b[0m \u001b[0mwrapper\u001b[0m\u001b[1;33m\u001b[0m\u001b[0m\n",
      "\u001b[1;32mD:\\Anaconda3\\lib\\site-packages\\traitlets\\config\\configurable.py\u001b[0m in \u001b[0;36minstance\u001b[1;34m(cls, *args, **kwargs)\u001b[0m\n\u001b[0;32m    421\u001b[0m             raise MultipleInstanceError(\n\u001b[0;32m    422\u001b[0m                 \u001b[1;34m'Multiple incompatible subclass instances of '\u001b[0m\u001b[1;33m\u001b[0m\u001b[0m\n\u001b[1;32m--> 423\u001b[1;33m                 \u001b[1;34m'%s are being created.'\u001b[0m \u001b[1;33m%\u001b[0m \u001b[0mcls\u001b[0m\u001b[1;33m.\u001b[0m\u001b[0m__name__\u001b[0m\u001b[1;33m\u001b[0m\u001b[0m\n\u001b[0m\u001b[0;32m    424\u001b[0m             )\n\u001b[0;32m    425\u001b[0m \u001b[1;33m\u001b[0m\u001b[0m\n",
      "\u001b[1;31mMultipleInstanceError\u001b[0m: Multiple incompatible subclass instances of InteractiveShellEmbed are being created."
     ],
     "output_type": "error"
    }
   ],
   "source": [
    "execute('scrapy shell http://www.baidu.com'.split())"
   ]
  },
  {
   "cell_type": "code",
   "execution_count": 215,
   "metadata": {},
   "outputs": [],
   "source": [
    ""
   ]
  },
  {
   "cell_type": "code",
   "execution_count": 219,
   "metadata": {},
   "outputs": [
    {
     "data": {
      "text/plain": [
       "['[美]埃里克·马瑟斯(作者)|袁国忠(译者)', '麦金尼(WesMcKinney)(作者)|唐学韬(译者)|等(译者)&0更多']"
      ]
     },
     "execution_count": 219,
     "metadata": {},
     "output_type": "execute_result"
    }
   ],
   "source": [
    ""
   ]
  },
  {
   "cell_type": "code",
   "execution_count": null,
   "metadata": {},
   "outputs": [],
   "source": []
  }
 ],
 "metadata": {},
 "nbformat": 4,
 "nbformat_minor": 0
}

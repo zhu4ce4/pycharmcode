{
 "cells": [
  {
   "cell_type": "code",
   "execution_count": 1,
   "metadata": {},
   "outputs": [],
   "source": [
    "import scrapy\n",
    "import requests"
   ]
  },
  {
   "cell_type": "code",
   "execution_count": 84,
   "metadata": {},
   "outputs": [],
   "source": [
    "import re"
   ]
  },
  {
   "cell_type": "code",
   "execution_count": 67,
   "metadata": {},
   "outputs": [],
   "source": [
    "url='https://www.amazon.cn/s/ref=sr_pg_3?rh=n%3A658390051%2Ck%3Apython&page=1&sort=date-desc-rank&keywords=python&ie=UTF8&qid=1534816867'\n",
    "headers={'User-Agent': 'Mozilla/5.0 (Windows NT 10.0; Win64; x64) AppleWebKit/537.36 (KHTML, like Gecko) Chrome/68.0.3440.106 Safari/537.36'}\n",
    "response=requests.get(url,headers=headers)"
   ]
  },
  {
   "cell_type": "code",
   "execution_count": 78,
   "metadata": {},
   "outputs": [],
   "source": [
    "sel=scrapy.Selector(response=response)\n",
    "infos=sel.css('li.s-result-item.celwidget  ')"
   ]
  },
  {
   "cell_type": "code",
   "execution_count": 88,
   "metadata": {},
   "outputs": [
    {
     "name": "stdout",
     "output_type": "stream",
     "text": [
      "英文书\n英文书\n英文书\n英文书\n英文书\n英文书\n英文书\n英文书\n英文书\n英文书\n英文书\n英文书\n英文书\n英文书\n英文书\n英文书\n"
     ]
    }
   ],
   "source": [
    "pattern=re.compile('[\\u4e00-\\u9fa5]')\n",
    "for info in infos:\n",
    "    name=info.css('h2::text').extract_first()\n",
    "    if re.search(pattern,name):\n",
    "        print('不是英文')\n",
    "    #     dianzishu_ornot=info.css('h3::text').extract_first()\n",
    "    #     if '电子书' not in dianzishu_ornot:\n",
    "            \n",
    "    else:\n",
    "        print('英文书')\n",
    "        continue\n",
    "    \n",
    "next_url=\n",
    "    #todo:排除英文\n",
    "    #先进行name过滤掉英文的内容，英文书就不提取该本书的链接了\n",
    "\n"
   ]
  },
  {
   "cell_type": "code",
   "execution_count": 93,
   "metadata": {},
   "outputs": [
    {
     "name": "stdout",
     "output_type": "stream",
     "text": [
      "用Python写网络爬虫 第2版\nhttps://www.amazon.cn/dp/B07F84FQB5/ref=sr_1_34/457-5159810-8402927?s=books&ie=UTF8&qid=1534829441&sr=1-34&keywords=python\n玩转Python网络爬虫\nhttps://www.amazon.cn/dp/B07DY286TN/ref=sr_1_35/457-5159810-8402927?s=books&ie=UTF8&qid=1534829441&sr=1-35&keywords=python\n深度学习原理与实践\nhttps://www.amazon.cn/dp/B07G1XXWKR/ref=sr_1_36/457-5159810-8402927?s=books&ie=UTF8&qid=1534829441&sr=1-36&keywords=python\n数据采集技术—Python网络爬虫项目化教程\nhttps://www.amazon.cn/dp/B07GJJGWKJ/ref=sr_1_37/457-5159810-8402927?s=books&ie=UTF8&qid=1534829441&sr=1-37&keywords=python\nPython 3 数据分析与机器学习实战\nhttps://www.amazon.cn/dp/B07GJFQ27N/ref=sr_1_38/457-5159810-8402927?s=books&ie=UTF8&qid=1534829441&sr=1-38&keywords=python\n编程超有趣 奇妙Python轻松学 第1辑\nhttps://www.amazon.cn/dp/B07G273SH3/ref=sr_1_39/457-5159810-8402927?s=books&ie=UTF8&qid=1534829441&sr=1-39&keywords=python\n初中生Scratch趣味程序设计\nhttps://www.amazon.cn/dp/B07G234DMH/ref=sr_1_40/457-5159810-8402927?s=books&ie=UTF8&qid=1534829441&sr=1-40&keywords=python\n程序员学Python\nhttps://www.amazon.cn/dp/B07G22MQQ3/ref=sr_1_41/457-5159810-8402927?s=books&ie=UTF8&qid=1534829441&sr=1-41&keywords=python\nPython程序设计入门(21世纪高等学校计算机基础实用规划教材)\nhttps://www.amazon.cn/dp/B07FDN2LQF/ref=sr_1_42/457-5159810-8402927?s=books&ie=UTF8&qid=1534829441&sr=1-42&keywords=python\n"
     ]
    }
   ],
   "source": [
    "next_url=sel.css('a#pagnNextLink::attr(href)').extract_first()\n",
    "next_url='https://www.amazon.cn'+next_url\n",
    "response=requests.get(next_url,headers=headers)\n",
    "sel=scrapy.Selector(response=response)\n",
    "infos=sel.css('li.s-result-item.celwidget  ')\n",
    "pattern=re.compile('[\\u4e00-\\u9fa5]')\n",
    "for info in infos:\n",
    "    name=info.css('h2::text').extract_first()\n",
    "    if re.search(pattern,name):\n",
    "        print(name)\n",
    "        dianzishu_ornot=info.css('h3::text').extract_first()\n",
    "        if '电子书' not in dianzishu_ornot:\n",
    "            book_link=info.xpath('.//h2/../@href').extract_first()\n",
    "            print(book_link)\n",
    "    else:\n",
    "        continue\n",
    "    \n"
   ]
  },
  {
   "cell_type": "code",
   "execution_count": 46,
   "metadata": {},
   "outputs": [
    {
     "ename": "AttributeError",
     "evalue": "'lxml.etree._Element' object has no attribute 'tostring'",
     "traceback": [
      "\u001b[1;31m---------------------------------------------------------------------------\u001b[0m",
      "\u001b[1;31mAttributeError\u001b[0m                            Traceback (most recent call last)",
      "\u001b[1;32m<ipython-input-46-7b2a101f0b9f>\u001b[0m in \u001b[0;36m<module>\u001b[1;34m()\u001b[0m\n\u001b[0;32m      1\u001b[0m \u001b[0mhtml\u001b[0m\u001b[1;33m=\u001b[0m\u001b[0metree\u001b[0m\u001b[1;33m.\u001b[0m\u001b[0mHTML\u001b[0m\u001b[1;33m(\u001b[0m\u001b[0mresponse\u001b[0m\u001b[1;33m.\u001b[0m\u001b[0mtext\u001b[0m\u001b[1;33m)\u001b[0m\u001b[1;33m\u001b[0m\u001b[0m\n\u001b[1;32m----> 2\u001b[1;33m \u001b[0mresult\u001b[0m\u001b[1;33m=\u001b[0m\u001b[0mhtml\u001b[0m\u001b[1;33m.\u001b[0m\u001b[0mtostring\u001b[0m\u001b[1;33m(\u001b[0m\u001b[1;33m)\u001b[0m\u001b[1;33m\u001b[0m\u001b[0m\n\u001b[0m",
      "\u001b[1;31mAttributeError\u001b[0m: 'lxml.etree._Element' object has no attribute 'tostring'"
     ],
     "output_type": "error"
    }
   ],
   "source": [
    ""
   ]
  },
  {
   "cell_type": "code",
   "execution_count": 45,
   "metadata": {},
   "outputs": [],
   "source": [
    ""
   ]
  },
  {
   "cell_type": "code",
   "execution_count": null,
   "metadata": {},
   "outputs": [],
   "source": []
  }
 ],
 "metadata": {},
 "nbformat": 4,
 "nbformat_minor": 0
}
